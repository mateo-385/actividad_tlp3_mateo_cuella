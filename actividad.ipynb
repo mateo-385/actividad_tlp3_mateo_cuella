{
 "cells": [
  {
   "cell_type": "markdown",
   "id": "498731c6",
   "metadata": {},
   "source": [
    "# Actividad - Trabajando con Series de Pandas.\n",
    "## Criterios de evaluación.\n",
    "\n",
    "* Se deben utilizar nombres de variables descriptivos y claros (Utilizar la nomeclatura correspondiente para los nombres de variables).\n",
    "* Comentarios claros y concisos que expliquen el propósito de cada sección del código.\n",
    "* Utilizar mensajes de commit **descriptivos**. (Puedes utilizar la extension CONVENTIONAL COMMIT de VS-CODE). \n",
    "* Entrega en tiempo y forma.\n",
    "* Todo el código desarrollado debe ser subido a un repositorio en GitHub (el nombre del repositorio de seguir la siguiente estructura: actividad_tlp3_nombre_apellido).\n",
    "* Para resolver las actividades se debe insertar casillas de codigo entre cada actividad del cuaderno de Jupyter\n",
    "\n",
    "### ¡Importante!\n",
    "**El incumplimiento de los criterios de evaluación restará puntos en la nota final del práctico!**"
   ]
  },
  {
   "cell_type": "markdown",
   "id": "b361a7b6",
   "metadata": {},
   "source": [
    "### **Actividad 1:** \n",
    "\n",
    "Crear Series desde diferentes estructuras.\n",
    "* Crea una Series con los números del 1 al 5\n",
    "* Crea una Series a partir de un diccionario con nombres de países como claves y sus capitales como valores."
   ]
  },
  {
   "cell_type": "code",
   "execution_count": 6,
   "id": "26009294",
   "metadata": {},
   "outputs": [
    {
     "name": "stdout",
     "output_type": "stream",
     "text": [
      "0    1\n",
      "1    2\n",
      "2    3\n",
      "3    4\n",
      "4    5\n",
      "dtype: int64\n",
      "Argentina    Buenos Aires\n",
      "Brasil           Brasilia\n",
      "Paraguay         Asunción\n",
      "Chile            Santiago\n",
      "Uruguay        Montevideo\n",
      "dtype: object\n"
     ]
    }
   ],
   "source": [
    "\n",
    "# todo:\n",
    "\n",
    "import pandas as pd\n",
    "\n",
    "#1.1\n",
    "\n",
    "numeros = pd.Series([1, 2, 3, 4, 5])\n",
    "print(numeros)\n",
    "\n",
    "#1.2\n",
    "paises_capitales = {\n",
    "        \"Argentina\": \"Buenos Aires\",\n",
    "        \"Brasil\": \"Brasilia\",\n",
    "        \"Paraguay\": \"Asunción\",\n",
    "        \"Chile\": \"Santiago\",\n",
    "        \"Uruguay\": \"Montevideo\"\n",
    "    }\n",
    "\n",
    "capitales = pd.Series(paises_capitales)\n",
    "print(capitales)"
   ]
  },
  {
   "cell_type": "markdown",
   "id": "0c239195",
   "metadata": {},
   "source": [
    "### **Actividad 2:** \n",
    "Acceso y selección de elementos.\n",
    "* Usa una Series con tareas (que haceres cotidianos) de una semana\n",
    "* Accede a diferentes elementos a elección.\n",
    "* Cambia los valores de los dias pares.\n"
   ]
  },
  {
   "cell_type": "code",
   "execution_count": null,
   "id": "3611d25a",
   "metadata": {},
   "outputs": [
    {
     "name": "stdout",
     "output_type": "stream",
     "text": [
      "Tareas de la semana\n",
      "Lunes        Lavar los cubiertos\n",
      "Martes            Colgar la ropa\n",
      "Miercoles        Pasear al perro\n",
      "Jueves         Hacer las compras\n",
      "Viernes          Limpiar el baño\n",
      "Sabado                   Cocinar\n",
      "Domingo       Ordenar habitacion\n",
      "dtype: object\n",
      "\n",
      "Tareas de Lunes a Viernes\n",
      "Lunes        Lavar los cubiertos\n",
      "Martes            Colgar la ropa\n",
      "Miercoles        Pasear al perro\n",
      "Jueves         Hacer las compras\n",
      "Viernes          Limpiar el baño\n",
      "dtype: object\n",
      "\n",
      "Tareas actualizadas\n",
      "Lunes        Lavar los cubiertos\n",
      "Martes         Limpiar los pisos\n",
      "Miercoles        Pasear al perro\n",
      "Jueves            Doblar la ropa\n",
      "Viernes          Limpiar el baño\n",
      "Sabado           Cortar el pasto\n",
      "Domingo       Ordenar habitacion\n",
      "dtype: object\n"
     ]
    }
   ],
   "source": [
    "\n",
    "# todo:\n",
    "\n",
    "#1.1\n",
    "tareas = pd.Series({\n",
    "        \"Lunes\": \"Lavar los cubiertos\",\n",
    "        \"Martes\": \"Colgar la ropa\",\n",
    "        \"Miercoles\": \"Pasear al perro\",\n",
    "        \"Jueves\": \"Hacer las compras\",\n",
    "        \"Viernes\": \"Limpiar el baño\",\n",
    "        \"Sabado\": \"Cocinar\",\n",
    "        \"Domingo\": \"Ordenar habitacion\"\n",
    "    })\n",
    "print(\"Tareas de la semana\")\n",
    "print(tareas)\n",
    "\n",
    "#1.2\n",
    "print(\"\\nTareas de Lunes a Viernes\")\n",
    "print(tareas[0:5])\n",
    "\n",
    "#1.3\n",
    "\n",
    "tareas[1::2] = ['Limpiar los pisos', 'Doblar la ropa', 'Cortar el pasto']\n",
    "print(\"\\nTareas actualizadas\")\n",
    "print(tareas)\n"
   ]
  },
  {
   "cell_type": "markdown",
   "id": "70a24b97",
   "metadata": {},
   "source": [
    "### **Actividad 3:**\n",
    "Operaciones aritméticas. \n",
    "* Realiza las operaciones basicas con 2 series cuales quieran.\n",
    "* Eleva los valores de la primer serie a 3 potencias difetentes."
   ]
  },
  {
   "cell_type": "code",
   "execution_count": 31,
   "id": "a9c8ebc7",
   "metadata": {},
   "outputs": [
    {
     "name": "stdout",
     "output_type": "stream",
     "text": [
      "\n",
      "Suma:\n",
      "0     7\n",
      "1     9\n",
      "2    11\n",
      "3    13\n",
      "4    15\n",
      "dtype: int64\n",
      "\n",
      "Resta:\n",
      "0   -5\n",
      "1   -5\n",
      "2   -5\n",
      "3   -5\n",
      "4   -5\n",
      "dtype: int64\n",
      "\n",
      "Multiplicación:\n",
      "0     6\n",
      "1    14\n",
      "2    24\n",
      "3    36\n",
      "4    50\n",
      "dtype: int64\n",
      "\n",
      "División:\n",
      "0    0.166667\n",
      "1    0.285714\n",
      "2    0.375000\n",
      "3    0.444444\n",
      "4    0.500000\n",
      "dtype: float64\n",
      "\n",
      "Primera Serie elevada al cuadrado:\n",
      "0     1\n",
      "1     4\n",
      "2     9\n",
      "3    16\n",
      "4    25\n",
      "dtype: int64\n",
      "\n",
      "Primera Serie elevada al cubo:\n",
      "0      1\n",
      "1      8\n",
      "2     27\n",
      "3     64\n",
      "4    125\n",
      "dtype: int64\n",
      "\n",
      "Primera Serie elevada a la cuarta potencia:\n",
      "0      1\n",
      "1     16\n",
      "2     81\n",
      "3    256\n",
      "4    625\n",
      "dtype: int64\n"
     ]
    }
   ],
   "source": [
    "\n",
    "# todo:\n",
    "\n",
    "#1.1\n",
    "\n",
    "numeros1 = pd.Series([1, 2, 3, 4, 5])\n",
    "numeros2 = pd.Series([6, 7, 8, 9, 10])\n",
    "\n",
    "suma = numeros1 + numeros2\n",
    "resta = numeros1 - numeros2\n",
    "multi = numeros1 * numeros2\n",
    "division = numeros1 / numeros2\n",
    "\n",
    "\n",
    "print(\"\\nSuma:\")\n",
    "print(suma)\n",
    "print(\"\\nResta:\")\n",
    "print(resta)\n",
    "print(\"\\nMultiplicación:\")\n",
    "print(multi)\n",
    "print(\"\\nDivisión:\")\n",
    "print(division)\n",
    "\n",
    "\n",
    "#1.2\n",
    "\n",
    "print(\"\\nPrimera Serie elevada al cuadrado:\")\n",
    "print(numeros1 ** 2)\n",
    "\n",
    "print(\"\\nPrimera Serie elevada al cubo:\")\n",
    "print(numeros1 ** 3)\n",
    "\n",
    "print(\"\\nPrimera Serie elevada a la cuarta potencia:\")\n",
    "print(numeros1 ** 4)\n"
   ]
  },
  {
   "cell_type": "markdown",
   "id": "b8dac397",
   "metadata": {},
   "source": [
    "### **Actividad 4:** \n",
    "Filtrado con condiciones.\n",
    "* Crea una Series de edades de 10 personas.\n",
    "* Muestra solo a los mayores de 18.\n",
    "* Reemplaza a los menores por \"Menor de edad\"."
   ]
  },
  {
   "cell_type": "code",
   "execution_count": null,
   "id": "d04fd492",
   "metadata": {},
   "outputs": [],
   "source": [
    "\n",
    "# todo:"
   ]
  },
  {
   "cell_type": "markdown",
   "id": "8889d0f2",
   "metadata": {},
   "source": [
    "### Actividad 5:\n",
    "Estadísticas básicas.\n",
    "\n",
    "* Crea una Series con las notas de 10 estudiantes.\n",
    "* Calcula la media, mediana, desviación estándar y máximo.\n",
    "* Muestra cuántos estudiantes aprobaron si el mínimo para aprobar es 6.\n",
    "* Ordenar las notas de manera ascendente y descendente. "
   ]
  },
  {
   "cell_type": "code",
   "execution_count": null,
   "id": "bc0ec844",
   "metadata": {},
   "outputs": [],
   "source": [
    "\n",
    "# todo:\n"
   ]
  }
 ],
 "metadata": {
  "kernelspec": {
   "display_name": ".venv",
   "language": "python",
   "name": "python3"
  },
  "language_info": {
   "codemirror_mode": {
    "name": "ipython",
    "version": 3
   },
   "file_extension": ".py",
   "mimetype": "text/x-python",
   "name": "python",
   "nbconvert_exporter": "python",
   "pygments_lexer": "ipython3",
   "version": "3.13.3"
  }
 },
 "nbformat": 4,
 "nbformat_minor": 5
}
